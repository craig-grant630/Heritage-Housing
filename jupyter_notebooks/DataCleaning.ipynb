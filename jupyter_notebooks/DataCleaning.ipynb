{
 "cells": [
  {
   "cell_type": "markdown",
   "id": "22c1f239",
   "metadata": {},
   "source": [
    "# Data Cleaning"
   ]
  },
  {
   "cell_type": "markdown",
   "id": "70543da3",
   "metadata": {},
   "source": [
    "## Objectives\n",
    "Our objectives for this notebook are as following:\n",
    "\n",
    "- Prepare the data sets for further analysis.\n",
    "- Load and inspect the data from Data collection \n",
    "- Correlation and PPS study.\n",
    "- Data Cleaning.\n",
    "\n",
    "## Inputs\n",
    "- outputs/datasets/collection/HousePrice.csv\n",
    "\n",
    "## Outputs\n",
    "- outputs/datasets/cleaned/train_set.csv\n",
    "- outputs/datasets/cleaned/test_set.csv\n",
    "- outputs/datasets/cleaned/clean_house_price_records.csv\n",
    "- outputs/datasets/cleaned/clean_refurbished_houses.csv\n",
    "  \n",
    "## Notes\n",
    "\n",
    "- This projects relays on the guidelines provided in the walk through projects, and the lessons provided along the course provided by code institute (especially in the Predictive Analysis)"
   ]
  }
 ],
 "metadata": {
  "language_info": {
   "name": "python"
  }
 },
 "nbformat": 4,
 "nbformat_minor": 5
}
