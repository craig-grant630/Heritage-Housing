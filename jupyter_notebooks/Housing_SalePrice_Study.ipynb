{
 "cells": [
  {
   "cell_type": "markdown",
   "id": "7c60e161",
   "metadata": {},
   "source": [
    "# **Housing Sale Price Study**"
   ]
  },
  {
   "cell_type": "markdown",
   "id": "83d65906",
   "metadata": {},
   "source": [
    "\n",
    "## Objectives\n",
    "\n",
    "- Answer Business Requirment 1\n",
    "Business Requirment 1 states: The client is interested in discovering how the house attributes correlate with the sale price. Therefore, the client expects data visualisations of the correlated variables against the sale price to show that.\n",
    "\n",
    "\n",
    "## Inputs\n",
    "\n",
    "- inputs/datasets/collection/HousePrices.csv\n",
    "\n",
    "## Outputs\n",
    "\n",
    "- Develop and implement code to address Business Requirement 1, and integrate the resulting analysis and visualisations into the Streamlit dashboard application.\n"
   ]
  },
  {
   "cell_type": "markdown",
   "id": "fbcd8171",
   "metadata": {},
   "source": [
    "# Change working directory"
   ]
  },
  {
   "cell_type": "markdown",
   "id": "9e71d14d",
   "metadata": {},
   "source": [
    "We need to change the working directory from its current folder to its parent folder\n",
    "* We access the current directory with os.getcwd()"
   ]
  },
  {
   "cell_type": "code",
   "execution_count": 23,
   "id": "19c6cbf5",
   "metadata": {},
   "outputs": [
    {
     "data": {
      "text/plain": [
       "'/workspaces/Heritage-Housing'"
      ]
     },
     "execution_count": 23,
     "metadata": {},
     "output_type": "execute_result"
    }
   ],
   "source": [
    "import os\n",
    "current_dir = os.getcwd()\n",
    "current_dir"
   ]
  },
  {
   "cell_type": "markdown",
   "id": "bc94de88",
   "metadata": {},
   "source": [
    "We want to make the child of the current directory the new current directory\n",
    "* os.chdir() defines the new current directory"
   ]
  },
  {
   "cell_type": "code",
   "execution_count": 24,
   "id": "d3cb60c8",
   "metadata": {},
   "outputs": [
    {
     "name": "stdout",
     "output_type": "stream",
     "text": [
      "You set a new current directory\n"
     ]
    }
   ],
   "source": [
    "import os\n",
    "\n",
    "os.chdir('/workspaces/Heritage-Housing')\n",
    "print(\"You set a new current directory\")"
   ]
  },
  {
   "cell_type": "markdown",
   "id": "1039d5c6",
   "metadata": {},
   "source": [
    "Confirm the new current directory"
   ]
  },
  {
   "cell_type": "code",
   "execution_count": 25,
   "id": "c63e642f",
   "metadata": {},
   "outputs": [
    {
     "data": {
      "text/plain": [
       "'/workspaces/Heritage-Housing'"
      ]
     },
     "execution_count": 25,
     "metadata": {},
     "output_type": "execute_result"
    }
   ],
   "source": [
    "current_dir = os.getcwd()\n",
    "current_dir"
   ]
  },
  {
   "cell_type": "markdown",
   "id": "95fd05e0",
   "metadata": {},
   "source": [
    "# Load Data"
   ]
  },
  {
   "cell_type": "code",
   "execution_count": 26,
   "id": "db091073",
   "metadata": {},
   "outputs": [
    {
     "data": {
      "text/html": [
       "<div>\n",
       "<style scoped>\n",
       "    .dataframe tbody tr th:only-of-type {\n",
       "        vertical-align: middle;\n",
       "    }\n",
       "\n",
       "    .dataframe tbody tr th {\n",
       "        vertical-align: top;\n",
       "    }\n",
       "\n",
       "    .dataframe thead th {\n",
       "        text-align: right;\n",
       "    }\n",
       "</style>\n",
       "<table border=\"1\" class=\"dataframe\">\n",
       "  <thead>\n",
       "    <tr style=\"text-align: right;\">\n",
       "      <th></th>\n",
       "      <th>1stFlrSF</th>\n",
       "      <th>2ndFlrSF</th>\n",
       "      <th>BedroomAbvGr</th>\n",
       "      <th>BsmtExposure</th>\n",
       "      <th>BsmtFinSF1</th>\n",
       "      <th>BsmtFinType1</th>\n",
       "      <th>BsmtUnfSF</th>\n",
       "      <th>GarageArea</th>\n",
       "      <th>GarageFinish</th>\n",
       "      <th>GarageYrBlt</th>\n",
       "      <th>...</th>\n",
       "      <th>LotArea</th>\n",
       "      <th>LotFrontage</th>\n",
       "      <th>MasVnrArea</th>\n",
       "      <th>OpenPorchSF</th>\n",
       "      <th>OverallCond</th>\n",
       "      <th>OverallQual</th>\n",
       "      <th>TotalBsmtSF</th>\n",
       "      <th>YearBuilt</th>\n",
       "      <th>YearRemodAdd</th>\n",
       "      <th>SalePrice</th>\n",
       "    </tr>\n",
       "  </thead>\n",
       "  <tbody>\n",
       "    <tr>\n",
       "      <th>0</th>\n",
       "      <td>856</td>\n",
       "      <td>854.0</td>\n",
       "      <td>3.0</td>\n",
       "      <td>No</td>\n",
       "      <td>706</td>\n",
       "      <td>GLQ</td>\n",
       "      <td>150</td>\n",
       "      <td>548</td>\n",
       "      <td>RFn</td>\n",
       "      <td>2003.0</td>\n",
       "      <td>...</td>\n",
       "      <td>8450</td>\n",
       "      <td>65.0</td>\n",
       "      <td>196.0</td>\n",
       "      <td>61</td>\n",
       "      <td>5</td>\n",
       "      <td>7</td>\n",
       "      <td>856</td>\n",
       "      <td>2003</td>\n",
       "      <td>2003</td>\n",
       "      <td>208500</td>\n",
       "    </tr>\n",
       "    <tr>\n",
       "      <th>1</th>\n",
       "      <td>1262</td>\n",
       "      <td>0.0</td>\n",
       "      <td>3.0</td>\n",
       "      <td>Gd</td>\n",
       "      <td>978</td>\n",
       "      <td>ALQ</td>\n",
       "      <td>284</td>\n",
       "      <td>460</td>\n",
       "      <td>RFn</td>\n",
       "      <td>1976.0</td>\n",
       "      <td>...</td>\n",
       "      <td>9600</td>\n",
       "      <td>80.0</td>\n",
       "      <td>0.0</td>\n",
       "      <td>0</td>\n",
       "      <td>8</td>\n",
       "      <td>6</td>\n",
       "      <td>1262</td>\n",
       "      <td>1976</td>\n",
       "      <td>1976</td>\n",
       "      <td>181500</td>\n",
       "    </tr>\n",
       "    <tr>\n",
       "      <th>2</th>\n",
       "      <td>920</td>\n",
       "      <td>866.0</td>\n",
       "      <td>3.0</td>\n",
       "      <td>Mn</td>\n",
       "      <td>486</td>\n",
       "      <td>GLQ</td>\n",
       "      <td>434</td>\n",
       "      <td>608</td>\n",
       "      <td>RFn</td>\n",
       "      <td>2001.0</td>\n",
       "      <td>...</td>\n",
       "      <td>11250</td>\n",
       "      <td>68.0</td>\n",
       "      <td>162.0</td>\n",
       "      <td>42</td>\n",
       "      <td>5</td>\n",
       "      <td>7</td>\n",
       "      <td>920</td>\n",
       "      <td>2001</td>\n",
       "      <td>2002</td>\n",
       "      <td>223500</td>\n",
       "    </tr>\n",
       "  </tbody>\n",
       "</table>\n",
       "<p>3 rows × 22 columns</p>\n",
       "</div>"
      ],
      "text/plain": [
       "   1stFlrSF  2ndFlrSF  BedroomAbvGr BsmtExposure  BsmtFinSF1 BsmtFinType1  \\\n",
       "0       856     854.0           3.0           No         706          GLQ   \n",
       "1      1262       0.0           3.0           Gd         978          ALQ   \n",
       "2       920     866.0           3.0           Mn         486          GLQ   \n",
       "\n",
       "   BsmtUnfSF  GarageArea GarageFinish  GarageYrBlt  ...  LotArea LotFrontage  \\\n",
       "0        150         548          RFn       2003.0  ...     8450        65.0   \n",
       "1        284         460          RFn       1976.0  ...     9600        80.0   \n",
       "2        434         608          RFn       2001.0  ...    11250        68.0   \n",
       "\n",
       "   MasVnrArea  OpenPorchSF  OverallCond  OverallQual  TotalBsmtSF  YearBuilt  \\\n",
       "0       196.0           61            5            7          856       2003   \n",
       "1         0.0            0            8            6         1262       1976   \n",
       "2       162.0           42            5            7          920       2001   \n",
       "\n",
       "   YearRemodAdd  SalePrice  \n",
       "0          2003     208500  \n",
       "1          1976     181500  \n",
       "2          2002     223500  \n",
       "\n",
       "[3 rows x 22 columns]"
      ]
     },
     "execution_count": 26,
     "metadata": {},
     "output_type": "execute_result"
    }
   ],
   "source": [
    "import pandas as pd\n",
    "df = (pd.read_csv(\"outputs/datasets/collection/HousePrices.csv\")\n",
    "    )\n",
    "df.head(3)"
   ]
  },
  {
   "cell_type": "markdown",
   "id": "2ec48f6f",
   "metadata": {},
   "source": [
    "## Correlation Study"
   ]
  },
  {
   "cell_type": "code",
   "execution_count": 28,
   "id": "c8c094f4",
   "metadata": {},
   "outputs": [],
   "source": [
    "df[df.columns[df.dtypes == 'object']] = df[df.columns[df.dtypes == 'object']].fillna(\"Missing\")"
   ]
  },
  {
   "cell_type": "code",
   "execution_count": 37,
   "id": "04dc730a",
   "metadata": {},
   "outputs": [
    {
     "data": {
      "text/html": [
       "<div>\n",
       "<style scoped>\n",
       "    .dataframe tbody tr th:only-of-type {\n",
       "        vertical-align: middle;\n",
       "    }\n",
       "\n",
       "    .dataframe tbody tr th {\n",
       "        vertical-align: top;\n",
       "    }\n",
       "\n",
       "    .dataframe thead th {\n",
       "        text-align: right;\n",
       "    }\n",
       "</style>\n",
       "<table border=\"1\" class=\"dataframe\">\n",
       "  <thead>\n",
       "    <tr style=\"text-align: right;\">\n",
       "      <th></th>\n",
       "      <th>1stFlrSF</th>\n",
       "      <th>2ndFlrSF</th>\n",
       "      <th>BedroomAbvGr</th>\n",
       "      <th>BsmtFinSF1</th>\n",
       "      <th>BsmtUnfSF</th>\n",
       "      <th>GarageArea</th>\n",
       "      <th>GarageYrBlt</th>\n",
       "      <th>GrLivArea</th>\n",
       "      <th>LotArea</th>\n",
       "      <th>LotFrontage</th>\n",
       "      <th>...</th>\n",
       "      <th>BsmtFinType1_BLQ</th>\n",
       "      <th>BsmtFinType1_LwQ</th>\n",
       "      <th>GarageFinish_RFn</th>\n",
       "      <th>GarageFinish_Unf</th>\n",
       "      <th>GarageFinish_Missing</th>\n",
       "      <th>GarageFinish_Fin</th>\n",
       "      <th>KitchenQual_Gd</th>\n",
       "      <th>KitchenQual_TA</th>\n",
       "      <th>KitchenQual_Ex</th>\n",
       "      <th>KitchenQual_Fa</th>\n",
       "    </tr>\n",
       "  </thead>\n",
       "  <tbody>\n",
       "    <tr>\n",
       "      <th>0</th>\n",
       "      <td>856</td>\n",
       "      <td>854.0</td>\n",
       "      <td>3.0</td>\n",
       "      <td>706</td>\n",
       "      <td>150</td>\n",
       "      <td>548</td>\n",
       "      <td>2003.0</td>\n",
       "      <td>1710</td>\n",
       "      <td>8450</td>\n",
       "      <td>65.0</td>\n",
       "      <td>...</td>\n",
       "      <td>0</td>\n",
       "      <td>0</td>\n",
       "      <td>1</td>\n",
       "      <td>0</td>\n",
       "      <td>0</td>\n",
       "      <td>0</td>\n",
       "      <td>1</td>\n",
       "      <td>0</td>\n",
       "      <td>0</td>\n",
       "      <td>0</td>\n",
       "    </tr>\n",
       "    <tr>\n",
       "      <th>1</th>\n",
       "      <td>1262</td>\n",
       "      <td>0.0</td>\n",
       "      <td>3.0</td>\n",
       "      <td>978</td>\n",
       "      <td>284</td>\n",
       "      <td>460</td>\n",
       "      <td>1976.0</td>\n",
       "      <td>1262</td>\n",
       "      <td>9600</td>\n",
       "      <td>80.0</td>\n",
       "      <td>...</td>\n",
       "      <td>0</td>\n",
       "      <td>0</td>\n",
       "      <td>1</td>\n",
       "      <td>0</td>\n",
       "      <td>0</td>\n",
       "      <td>0</td>\n",
       "      <td>0</td>\n",
       "      <td>1</td>\n",
       "      <td>0</td>\n",
       "      <td>0</td>\n",
       "    </tr>\n",
       "    <tr>\n",
       "      <th>2</th>\n",
       "      <td>920</td>\n",
       "      <td>866.0</td>\n",
       "      <td>3.0</td>\n",
       "      <td>486</td>\n",
       "      <td>434</td>\n",
       "      <td>608</td>\n",
       "      <td>2001.0</td>\n",
       "      <td>1786</td>\n",
       "      <td>11250</td>\n",
       "      <td>68.0</td>\n",
       "      <td>...</td>\n",
       "      <td>0</td>\n",
       "      <td>0</td>\n",
       "      <td>1</td>\n",
       "      <td>0</td>\n",
       "      <td>0</td>\n",
       "      <td>0</td>\n",
       "      <td>1</td>\n",
       "      <td>0</td>\n",
       "      <td>0</td>\n",
       "      <td>0</td>\n",
       "    </tr>\n",
       "  </tbody>\n",
       "</table>\n",
       "<p>3 rows × 38 columns</p>\n",
       "</div>"
      ],
      "text/plain": [
       "   1stFlrSF  2ndFlrSF  BedroomAbvGr  BsmtFinSF1  BsmtUnfSF  GarageArea  \\\n",
       "0       856     854.0           3.0         706        150         548   \n",
       "1      1262       0.0           3.0         978        284         460   \n",
       "2       920     866.0           3.0         486        434         608   \n",
       "\n",
       "   GarageYrBlt  GrLivArea  LotArea  LotFrontage  ...  BsmtFinType1_BLQ  \\\n",
       "0       2003.0       1710     8450         65.0  ...                 0   \n",
       "1       1976.0       1262     9600         80.0  ...                 0   \n",
       "2       2001.0       1786    11250         68.0  ...                 0   \n",
       "\n",
       "   BsmtFinType1_LwQ  GarageFinish_RFn  GarageFinish_Unf  GarageFinish_Missing  \\\n",
       "0                 0                 1                 0                     0   \n",
       "1                 0                 1                 0                     0   \n",
       "2                 0                 1                 0                     0   \n",
       "\n",
       "   GarageFinish_Fin  KitchenQual_Gd  KitchenQual_TA  KitchenQual_Ex  \\\n",
       "0                 0               1               0               0   \n",
       "1                 0               0               1               0   \n",
       "2                 0               1               0               0   \n",
       "\n",
       "   KitchenQual_Fa  \n",
       "0               0  \n",
       "1               0  \n",
       "2               0  \n",
       "\n",
       "[3 rows x 38 columns]"
      ]
     },
     "execution_count": 37,
     "metadata": {},
     "output_type": "execute_result"
    }
   ],
   "source": [
    "from feature_engine.encoding import OneHotEncoder\n",
    "encoder = OneHotEncoder(variables=df.columns[df.dtypes=='object'].to_list(), drop_last=False)\n",
    "df_encoder = encoder.fit_transform(df)\n",
    "df_encoder.head(3)"
   ]
  },
  {
   "cell_type": "markdown",
   "id": "4724ab49",
   "metadata": {},
   "source": [
    "### **Pearson and Spearman Corrolation Methods**\n",
    "\n",
    "<span style=\"color: red;\">The Pearson correlation</span> coefficient measures the strength and direction of the linear relationship between two continuous variables. It ranges from -1 to +1, where values close to +1 or -1 indicate a strong positive or negative linear association, respectively, and 0 indicates no linear correlation. This method assumes the data are normally distributed and that the relationship is linear. It is sensitive to outliers and may not perform well if these assumptions are violated.\n",
    "\n",
    "<span style=\"color: red;\">The Spearman correlation</span> coefficient measures the strength and direction of a monotonic relationship between two variables based on the ranked values rather than the raw data. It also ranges from -1 to +1, with values near these extremes indicating a strong monotonic relationship. Spearman correlation does not require linearity or normality, making it more robust to outliers and suitable for capturing non-linear, monotonic associations.\n",
    "\n",
    "**We will use .corr() for spearman and pearson methods, and investigate the top 10 correlations**"
   ]
  },
  {
   "cell_type": "code",
   "execution_count": 61,
   "id": "dec8c547",
   "metadata": {},
   "outputs": [
    {
     "name": "stdout",
     "output_type": "stream",
     "text": [
      "      Variable  spearman Correlation\n",
      "   OverallQual              0.809829\n",
      "     GrLivArea              0.731310\n",
      "     YearBuilt              0.652682\n",
      "    GarageArea              0.649379\n",
      "   TotalBsmtSF              0.602725\n",
      "   GarageYrBlt              0.593788\n",
      "KitchenQual_TA             -0.581803\n",
      "      1stFlrSF              0.575408\n",
      "  YearRemodAdd              0.571159\n",
      "KitchenQual_Gd              0.478583\n"
     ]
    }
   ],
   "source": [
    "# Spearman (Non Linear)\n",
    "corr_spearman = df_encoder.corr(method='spearman')['SalePrice'].sort_values(key=abs, ascending=False)[1:].head(10)\n",
    "corr_table = corr_spearman.reset_index()\n",
    "corr_table.columns = ['Variable', 'spearman Correlation']\n",
    "\n",
    "print(corr_table.to_string(index=False))"
   ]
  },
  {
   "cell_type": "code",
   "execution_count": 62,
   "id": "969fedd4",
   "metadata": {},
   "outputs": [
    {
     "name": "stdout",
     "output_type": "stream",
     "text": [
      "      Variable  Pearson Correlation\n",
      "   OverallQual             0.790982\n",
      "     GrLivArea             0.708624\n",
      "    GarageArea             0.623431\n",
      "   TotalBsmtSF             0.613581\n",
      "      1stFlrSF             0.605852\n",
      "     YearBuilt             0.522897\n",
      "KitchenQual_TA            -0.519298\n",
      "  YearRemodAdd             0.507101\n",
      "KitchenQual_Ex             0.504094\n",
      "   GarageYrBlt             0.486362\n"
     ]
    }
   ],
   "source": [
    "# Pearson (Linear)\n",
    "\n",
    "corr_Pearson = df_encoder.corr(method='pearson')['SalePrice'].sort_values(key=abs, ascending=False)[1:].head(10)\n",
    "\n",
    "corr_table = corr_Pearson.reset_index()\n",
    "corr_table.columns = ['Variable', 'Pearson Correlation']\n",
    "\n",
    "print(corr_table.to_string(index=False))\n"
   ]
  },
  {
   "cell_type": "markdown",
   "id": "4c19ac6f",
   "metadata": {},
   "source": [
    "For both methods, we observe weak to moderate correlations between `SalePrice` and the individual variables. Therefore, we will focus on the top five correlation values identified in the encoded dataset (df_encoder) and further analyze the corresponding variables in the original dataset (df)."
   ]
  },
  {
   "cell_type": "code",
   "execution_count": 59,
   "id": "59b68c3a",
   "metadata": {},
   "outputs": [
    {
     "data": {
      "text/plain": [
       "{'1stFlrSF',\n",
       " 'GarageArea',\n",
       " 'GrLivArea',\n",
       " 'OverallQual',\n",
       " 'TotalBsmtSF',\n",
       " 'YearBuilt'}"
      ]
     },
     "execution_count": 59,
     "metadata": {},
     "output_type": "execute_result"
    }
   ],
   "source": [
    "top_n = 5\n",
    "set(corr_Pearson[:top_n].index.to_list() + corr_spearman[:top_n].index.to_list())"
   ]
  },
  {
   "cell_type": "markdown",
   "id": "960ecdf1",
   "metadata": {},
   "source": [
    "The variables identified as having the strongest correlations with the target include:\n",
    "\n",
    "- **1stFlrSF**: First floor square footage of the house.\n",
    "  \n",
    "- **GarageArea:** Size of the garage in square feet.\n",
    "  \n",
    "- **GrLivArea**: Above-ground living area square footage.\n",
    "  \n",
    "- **OverallQual**: Overall quality rating of the material and finish.\n",
    "  \n",
    "- **TotalBsmtSF**: Total basement area in square feet.\n",
    "  \n",
    "- **YearBuilt**: The year the house was originally constructed."
   ]
  },
  {
   "cell_type": "code",
   "execution_count": 69,
   "id": "59be6dfa",
   "metadata": {},
   "outputs": [
    {
     "data": {
      "text/plain": [
       "['1stFlrSF',\n",
       " 'GarageArea',\n",
       " 'GrLivArea',\n",
       " 'OverallQual',\n",
       " 'TotalBsmtSF',\n",
       " 'YearBuilt']"
      ]
     },
     "execution_count": 69,
     "metadata": {},
     "output_type": "execute_result"
    }
   ],
   "source": [
    "vars_to_study = ['1stFlrSF', 'GarageArea', 'GrLivArea', 'OverallQual', 'TotalBsmtSF', 'YearBuilt']\n",
    "vars_to_study"
   ]
  }
 ],
 "metadata": {
  "kernelspec": {
   "display_name": "Python 3",
   "language": "python",
   "name": "python3"
  },
  "language_info": {
   "codemirror_mode": {
    "name": "ipython",
    "version": 3
   },
   "file_extension": ".py",
   "mimetype": "text/x-python",
   "name": "python",
   "nbconvert_exporter": "python",
   "pygments_lexer": "ipython3",
   "version": "3.12.1"
  }
 },
 "nbformat": 4,
 "nbformat_minor": 5
}
